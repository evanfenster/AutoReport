{
 "cells": [
  {
   "cell_type": "code",
   "execution_count": null,
   "metadata": {},
   "outputs": [],
   "source": [
    "# Install dependencies\n",
    "!pip install langchain\n",
    "!pip install openai\n",
    "!pip install python-dotenv\n",
    "!pip install tabulate\n",
    "!pip install Jinja2\n",
    "!pip install reportlab"
   ]
  },
  {
   "cell_type": "code",
   "execution_count": null,
   "metadata": {},
   "outputs": [],
   "source": [
    "# Load in OpenAI API Key\n",
    "import os\n",
    "from dotenv import load_dotenv\n",
    "\n",
    "# Load the .env file\n",
    "load_dotenv()\n",
    "\n",
    "# Get the OpenAI API key\n",
    "openai_api_key = os.getenv('OPENAI_API_KEY')"
   ]
  },
  {
   "cell_type": "code",
   "execution_count": null,
   "metadata": {},
   "outputs": [],
   "source": [
    "# Clean the dataset\n",
    "import pandas as pd\n",
    "import numpy as np\n",
    "\n",
    "# Read the csv file\n",
    "df = pd.read_csv('datasets/winequality-red.csv')\n",
    "\n",
    "# Handle missing values\n",
    "for col in df.columns:\n",
    "    if pd.api.types.is_numeric_dtype(df[col]):\n",
    "        # For numeric columns, fill missing values with the mean\n",
    "        df[col].fillna(df[col].mean(), inplace=True)\n",
    "    else:\n",
    "        # For other types of columns (e.g. dates, custom classes), fill missing values with a new category 'missing'\n",
    "        df[col].fillna('missing', inplace=True)\n",
    "\n",
    "# Save the cleaned dataset\n",
    "df.to_csv('cleaned_dataset.csv', index=False)\n"
   ]
  },
  {
   "cell_type": "code",
   "execution_count": null,
   "metadata": {},
   "outputs": [],
   "source": [
    "# Create our CSV agent\n",
    "from langchain.agents import create_csv_agent\n",
    "from langchain.llms import OpenAI\n",
    "csv_agent = create_csv_agent(\n",
    "    OpenAI(temperature=0), \n",
    "    'cleaned_dataset.csv', \n",
    "    verbose=True)"
   ]
  },
  {
   "cell_type": "code",
   "execution_count": null,
   "metadata": {},
   "outputs": [],
   "source": [
    "# Identify the dependent varaible\n",
    "dv_prompt = \"Please examine the dataset and suggest a potential dependent variable. Consider factors such as the name of the column, the type of the data, and the distribution of the values. The dependent variable is typically the outcome we are interested in predicting or explaining. If the dataset appears to be from a time-series study, consider the variable that changes over time as the dependent variable. If the dataset seems to be from an experimental study, consider the variable that is expected to have been affected by the treatments or conditions as the dependent variable. If the dataset seems to be observational, consider the variable that seems most likely to be affected by other variables in the dataset as the dependent variable. Output only the name of the column.\"\n",
    "dv = csv_agent.run(dv_prompt)"
   ]
  },
  {
   "cell_type": "code",
   "execution_count": null,
   "metadata": {},
   "outputs": [],
   "source": [
    "# Generate analyses\n",
    "import matplotlib.pyplot as plt \n",
    "analyses = {}"
   ]
  },
  {
   "cell_type": "code",
   "execution_count": null,
   "metadata": {},
   "outputs": [],
   "source": [
    "# First analysis: descriptive statistics\n",
    "statistics = csv_agent.run(\"Output the most relevant descriptive statistics for the {dv} and each of the independent variables. Don't reference something shown above; instead, describe it directly.\")\n",
    "analyses['Descriptive Statistics'] = statistics"
   ]
  },
  {
   "cell_type": "code",
   "execution_count": null,
   "metadata": {},
   "outputs": [],
   "source": [
    "# Second analysis: correlation\n",
    "# Only execute if there are less than 10 independent variables\n",
    "if len(df.columns) < 10:\n",
    "    correlation = csv_agent.run(\"Calculate the most relevant correlation coefficients between the {dv} and each of the numerical independent variables. Don't reference something shown above; instead, describe it directly.\")\n",
    "    analyses['Correlation'] = correlation"
   ]
  },
  {
   "cell_type": "code",
   "execution_count": null,
   "metadata": {},
   "outputs": [],
   "source": [
    "# Third analysis: scatterplot\n",
    "# Generate the chart itself\n",
    "scatterplot_code = csv_agent.run(\"Create the most relevant scatterplot showing the relationship between the {dv} and one of the numerical independent variables. Output the code needed to create the scatterplot, including labels for axes and a title, but don't include imports. Use the format: df.plot.scatter(x='fixed acidity', y='quality', title='Relationship between Fixed Acidity and Quality', label='fixed acidity')\")\n",
    "code = \"\"\"\n",
    "plot = \"\"\" + scatterplot_code + \"\"\"\n",
    "fig = plot.get_figure()\n",
    "fig.savefig('charts/scatterplot.png')\n",
    "\"\"\"\n",
    "exec(code)\n",
    "\n",
    "# Generate the description of the trend in the chart\n",
    "scatterplot = csv_agent.run(\"Describe the relationship seen in \" + scatterplot_code)\n",
    "analyses['Scatterplot'] = scatterplot"
   ]
  },
  {
   "cell_type": "code",
   "execution_count": null,
   "metadata": {},
   "outputs": [],
   "source": [
    "# Fourth analysis: outliers\n",
    "outliers = csv_agent.run(\"Identify and list outliers when considering the relationship between the {dv} and each of the independent variables. Don't reference something shown above; instead, describe it directly.\")\n",
    "analyses['Outliers'] = outliers"
   ]
  },
  {
   "cell_type": "code",
   "execution_count": null,
   "metadata": {},
   "outputs": [],
   "source": [
    "# Fifth analysis: time series\n",
    "# Generate the chart itself\n",
    "time_series_code = csv_agent.run(\"If this dataset is not time-series data, ONLY output \\\"Irrelevant!\\\". Otherwise, for time-series data, create a line plot of the average {dv} over time. Output the code needed to create the time series plot, including labels for axes and a title.\")\n",
    "\n",
    "if time_series_code == \"Irrelevant!\":\n",
    "    time_series = \"Irrelevant!\"\n",
    "else:\n",
    "    code = \"\"\"\n",
    "plot = \"\"\" + time_series_code + \"\"\"\n",
    "fig = plot.get_figure()\n",
    "fig.savefig('charts/time_series.png')\n",
    "\"\"\"\n",
    "    exec(code)\n",
    "\n",
    "    # Generate the description of the trend in the chart\n",
    "    time_series = csv_agent.run(\"Describe the trend seen in \" + time_series_code)\n",
    "analyses['Time Series'] = time_series\n"
   ]
  },
  {
   "cell_type": "code",
   "execution_count": null,
   "metadata": {},
   "outputs": [],
   "source": [
    "# Sixth analysis: PCA\n",
    "pca = csv_agent.run(\"Perform a principle component analysis (PCA) with the {dv} and all independent numerical variables, and return the explained variance ratio of the first two principal components\")\n",
    "analyses['PCA'] = pca"
   ]
  },
  {
   "cell_type": "code",
   "execution_count": null,
   "metadata": {},
   "outputs": [],
   "source": [
    "# Seventh analysis: Box plot\n",
    "# Generate the chart itself\n",
    "box_plot_code = csv_agent.run(\"Create the most relevant box plot of the {dv} for one of the categorical independent variables. Output the code needed to create the box plot, including labels for axes, but don't include imports. Don't include too many values on the axes. Use the format: df.boxplot(column='alcohol', by='quality', figsize=(10,6))\")\n",
    "code = \"\"\"\n",
    "plot = \"\"\" + box_plot_code + \"\"\"\n",
    "fig = plot.get_figure()\n",
    "fig.savefig('charts/boxplot.png')\n",
    "\"\"\"\n",
    "exec(code)\n",
    "\n",
    "# Generate the description of the trend in the chart\n",
    "box_plot = csv_agent.run(\"Describe the relationship seen in \" + box_plot_code)\n",
    "analyses['Box Plot'] = box_plot"
   ]
  },
  {
   "cell_type": "code",
   "execution_count": null,
   "metadata": {},
   "outputs": [],
   "source": [
    "# Currently not working\n",
    "\"\"\"\n",
    "# Eighth analysis: Histogram\n",
    "# Generate the chart itself\n",
    "histogram_code = csv_agent.run(\"Create a histogram for {dv}. Output the code needed to create the histogram, including labels for axes and a title, but don't include imports.\")\n",
    "\"\"\"\n",
    "\n",
    "#code = \"\"\"\n",
    "#plot = \"\"\" + histogram_code + \"\"\"\n",
    "#fig = plot.get_figure()\n",
    "#fig.savefig('charts/histogram.png')\n",
    "#\"\"\"\n",
    "\n",
    "\"\"\"\n",
    "exec(code)\n",
    "\n",
    "# Generate the description of the trend in the chart\n",
    "histogram = csv_agent.run(\"Describe the relationship seen in \" + histogram_code)\n",
    "analyses['Histogram'] = histogram\n",
    "\"\"\""
   ]
  },
  {
   "cell_type": "code",
   "execution_count": null,
   "metadata": {},
   "outputs": [],
   "source": [
    "# print all data analyses\n",
    "from tabulate import tabulate\n",
    "print(tabulate(analyses.items(), headers=['Analysis', 'Description']))"
   ]
  },
  {
   "cell_type": "code",
   "execution_count": null,
   "metadata": {},
   "outputs": [],
   "source": [
    "# Create our writer agent\n",
    "from langchain.prompts import PromptTemplate\n",
    "from langchain.chains import LLMChain\n",
    "\n",
    "# 0 temp for consistent decision making\n",
    "llm = OpenAI(temperature=0)\n",
    "\n",
    "# Ask our llm to pick the four most relevant analyses\n",
    "focus_prompt = PromptTemplate(\n",
    "    input_variables=['analyses', 'dv'],\n",
    "    template=\"Given the nature of the identified dependent variable, {dv}, and the insights provided by the following analyses, please select the four most relevant ones to be included in our final report. Output only the titles of each chosen analyses. \\n Analyses: {analyses}\",\n",
    ")\n",
    "\n",
    "# Generate the output\n",
    "chain = LLMChain(llm=llm, prompt=focus_prompt)\n",
    "chosen = chain.run(analyses=analyses, dv=dv)"
   ]
  },
  {
   "cell_type": "code",
   "execution_count": null,
   "metadata": {},
   "outputs": [],
   "source": [
    "print(chosen)"
   ]
  },
  {
   "cell_type": "code",
   "execution_count": null,
   "metadata": {},
   "outputs": [],
   "source": [
    "# Create our new list of analyses based off the chosen ones\n",
    "chosen_analyses = chosen.split('\\n')\n",
    "\n",
    "# Filter out any empty strings\n",
    "chosen_analyses = [title for title in chosen_analyses if title]\n",
    "\n",
    "# Create the new dictionary\n",
    "selected_analyses = {title: analyses[title] for title in chosen_analyses if title in analyses}\n",
    "\n",
    "print(selected_analyses)\n"
   ]
  },
  {
   "cell_type": "code",
   "execution_count": null,
   "metadata": {},
   "outputs": [],
   "source": [
    "# Increased temp for more creative writing\n",
    "llmc = OpenAI(temperature=0.5)\n",
    "\n",
    "# Generate the report research question, title, abstract, and conclusion\n",
    "research_question_prompt = PromptTemplate(\n",
    "    input_variables=['selected_analyses', 'dv'],\n",
    "    template=\"Given the nature of the identified dependent variable, {dv}, and the insights provided by the following analyses, please write a research question that these analyses could answer. \\n Analyses: {selected_analyses}\",\n",
    ")\n",
    "\n",
    "# Generate the output\n",
    "chain = LLMChain(llm=llmc, prompt=research_question_prompt)\n",
    "research_question = chain.run(selected_analyses=selected_analyses, dv=dv)\n",
    "\n",
    "print(research_question)"
   ]
  },
  {
   "cell_type": "code",
   "execution_count": null,
   "metadata": {},
   "outputs": [],
   "source": [
    "# Generate the title for this report\n",
    "title_prompt = PromptTemplate(\n",
    "    input_variables=['research_question'],\n",
    "    template=\"Given the research question, \\\"{research_question}\\\", please write a title for this report.\",\n",
    ")\n",
    "\n",
    "# Generate the output\n",
    "chain = LLMChain(llm=llmc, prompt=title_prompt)\n",
    "title = chain.run(research_question=research_question)\n",
    "\n",
    "print(title)"
   ]
  },
  {
   "cell_type": "code",
   "execution_count": null,
   "metadata": {},
   "outputs": [],
   "source": [
    "# Generate the abstract for this report\n",
    "abstract_prompt = PromptTemplate(\n",
    "    input_variables=['research_question', 'title', 'selected_analyses'],\n",
    "    template=\"Given the research question, \\\"{research_question}\\\", and the title, \\\"{title}\\\", please write an abstract for this report that describes the data and expands upon the potential real-world implications of it. \\n Analyses: {selected_analyses}\",\n",
    ")\n",
    "\n",
    "# Generate the output\n",
    "chain = LLMChain(llm=llmc, prompt=abstract_prompt)\n",
    "abstract = chain.run(research_question=research_question, title=title, selected_analyses=selected_analyses)\n",
    "\n",
    "print(abstract)"
   ]
  },
  {
   "cell_type": "code",
   "execution_count": null,
   "metadata": {},
   "outputs": [],
   "source": [
    "# Generate the introduction for this report that expands upon the abstract without repeating the data analyses\n",
    "introduction_prompt = PromptTemplate(\n",
    "    input_variables=['research_question', 'title', 'abstract'],\n",
    "    template=\"Given the research question, \\\"{research_question}\\\", and the title, \\\"{title}\\\", please write an introduction for this report that expands upon the abstract without repeating the data analyses. Don't include a header, just output the text. \\n Abstract: {abstract}\",\n",
    ")\n",
    "\n",
    "# Generate the output\n",
    "chain = LLMChain(llm=llmc, prompt=introduction_prompt)\n",
    "introduction = chain.run(research_question=research_question, title=title, abstract=abstract)\n",
    "\n",
    "print(introduction)"
   ]
  },
  {
   "cell_type": "code",
   "execution_count": null,
   "metadata": {},
   "outputs": [],
   "source": [
    "# Generate the conclusion for this report based off the research question, title, selected analyses, and introduction\n",
    "conclusion_prompt = PromptTemplate(\n",
    "    input_variables=['research_question', 'title', 'selected_analyses', 'introduction'],\n",
    "    template=\"Given the research question, \\\"{research_question}\\\", and the title, \\\"{title}\\\", please write a conclusion for this report that summarizes the findings of the analyses and the implications of the results. \\n Analyses: {selected_analyses} \\n Introduction: {introduction} \\n Use the format: Conclusion: \",\n",
    ")\n",
    "\n",
    "# Generate the output\n",
    "chain = LLMChain(llm=llmc, prompt=conclusion_prompt)\n",
    "conclusion = chain.run(research_question=research_question, title=title, selected_analyses=selected_analyses, introduction=introduction)\n",
    "\n",
    "print(conclusion)"
   ]
  },
  {
   "cell_type": "code",
   "execution_count": null,
   "metadata": {},
   "outputs": [],
   "source": [
    "# For each analysis, generate 2-3 paragraphs of text that describe the analysis and its implications in relation to the research question\n",
    "analysis_prompt = PromptTemplate(\n",
    "    input_variables=['analysis', 'research_question'],\n",
    "    template=\"Given the research question, \\\"{research_question}\\\", please write one long paragraph discussing the analysis process, key findings, their relevance to the research question, and potential implications. Don't include subheaders. \\n Analysis: {analysis}\",\n",
    ")\n",
    "\n",
    "# Generate the output\n",
    "chain = LLMChain(llm=llm, prompt=analysis_prompt)\n",
    "analysis_descriptions = {}\n",
    "for analysis in selected_analyses:\n",
    "    analysis_description = chain.run(analysis=analysis, research_question=research_question)\n",
    "    analysis_descriptions[analysis] = analysis_description\n",
    "\n",
    "print(analysis_descriptions)"
   ]
  },
  {
   "cell_type": "code",
   "execution_count": null,
   "metadata": {},
   "outputs": [],
   "source": [
    "from reportlab.lib.pagesizes import letter, inch\n",
    "from reportlab.platypus import SimpleDocTemplate, Paragraph, Spacer, Image, PageBreak\n",
    "from reportlab.lib.styles import getSampleStyleSheet, ParagraphStyle\n",
    "from reportlab.lib import colors\n",
    "\n",
    "def footer_canvas(c):\n",
    "    \"\"\"\n",
    "    Add the Page number to the canvas\n",
    "    \"\"\"\n",
    "    c.saveState()\n",
    "    pageNum = c.getPageNumber()\n",
    "    c.drawString(letter[0] - inch, 0.75 * inch, f\"Page {pageNum}\")\n",
    "    c.restoreState()\n",
    "\n",
    "# Create a PDF document\n",
    "doc = SimpleDocTemplate(\"report.pdf\", pagesize=letter, onPage=footer_canvas)\n",
    "\n",
    "# Set up styles\n",
    "styles = getSampleStyleSheet()\n",
    "\n",
    "title_style = ParagraphStyle(\n",
    "    'Title',\n",
    "    parent=styles['Heading1'],\n",
    "    fontName='Helvetica-Bold',\n",
    "    fontSize=24,\n",
    "    textColor=colors.HexColor(0x005B96),\n",
    "    spaceAfter=12,\n",
    ")\n",
    "\n",
    "header_style = ParagraphStyle(\n",
    "    'Header',\n",
    "    parent=styles['Heading2'],\n",
    "    fontName='Helvetica-Bold',\n",
    "    fontSize=20,\n",
    "    textColor=colors.HexColor(0x6495ED),\n",
    "    spaceAfter=12,\n",
    ")\n",
    "\n",
    "subheader_style = ParagraphStyle(\n",
    "    'Subheader',\n",
    "    parent=styles['Heading3'],\n",
    "    fontName='Helvetica-Bold',\n",
    "    fontSize=16,\n",
    "    textColor=colors.HexColor(0xA2D5F2),\n",
    "    spaceAfter=12,\n",
    ")\n",
    "\n",
    "paragraph_style = ParagraphStyle(\n",
    "    'BodyText',\n",
    "    parent=styles['BodyText'],\n",
    "    fontName='Helvetica',\n",
    "    fontSize=12,\n",
    "    textColor=colors.black,\n",
    "    leading=14,\n",
    "    spaceAfter=12,\n",
    ")\n"
   ]
  },
  {
   "cell_type": "code",
   "execution_count": null,
   "metadata": {},
   "outputs": [],
   "source": [
    "# Function to remove headers from analyses\n",
    "\n",
    "import re\n",
    "\n",
    "def split_and_remove(s):\n",
    "    # regex pattern to find characters between \":\" and the last \".\" that occurs before each \":\"\n",
    "    pattern = r'\\.[^\\.]*?:'\n",
    "\n",
    "    # split the string using regex\n",
    "    split_strings = re.split(pattern, s)\n",
    "\n",
    "    # remove empty strings\n",
    "    split_strings = list(filter(None, split_strings))\n",
    "\n",
    "    return split_strings\n"
   ]
  },
  {
   "cell_type": "code",
   "execution_count": null,
   "metadata": {},
   "outputs": [],
   "source": [
    "# Add elements (text and images) to the PDF\n",
    "elements = []\n",
    "\n",
    "# Add a title\n",
    "elements.append(Paragraph(title, title_style))\n",
    "elements.append(Spacer(1, 12))\n",
    "\n",
    "# Add a the abstract header and text\n",
    "subtitle = \"Abstract\"\n",
    "elements.append(Paragraph(subtitle, header_style))\n",
    "\n",
    "elements.append(Paragraph(abstract, paragraph_style))\n",
    "elements.append(Spacer(1, 12))\n",
    "\n",
    "# Add the introduction header and text\n",
    "subtitle = \"Introduction\"\n",
    "elements.append(Paragraph(subtitle, header_style))\n",
    "\n",
    "elements.append(Paragraph(introduction, paragraph_style))\n",
    "elements.append(Spacer(1, 12))\n",
    "\n",
    "# Add the analyses header and text\n",
    "subtitle = \"Analyses\"\n",
    "elements.append(Paragraph(subtitle, header_style))\n",
    "\n",
    "for analysis, description in selected_analyses.items():\n",
    "    # Add title\n",
    "    elements.append(Paragraph(analysis, subheader_style))\n",
    "\n",
    "    # Split description into sections\n",
    "    sections = split_and_remove(analysis_descriptions[analysis])\n",
    "\n",
    "    for i, content in enumerate(sections):\n",
    "        # For the first section, add analysis title\n",
    "        if i == 0:\n",
    "            content = analysis + content\n",
    "            # Check if the title is one of the specified figures\n",
    "            if analysis == \"Scatterplot\":\n",
    "                elements.append(Image(\"charts/scatterplot.png\", width=5*inch, height=3*inch))\n",
    "            elif analysis == \"Box Plot\":\n",
    "                elements.append(Image(\"charts/boxplot.png\", width=5*inch, height=3*inch))\n",
    "            elif analysis == \"Histogram\":\n",
    "                elements.append(Image(\"charts/histogram.png\", width=5*inch, height=3*inch))\n",
    "            elif analysis == \"Time Series\":\n",
    "                elements.append(Image(\"charts/time_series.png\", width=5*inch, height=3*inch))\n",
    "\n",
    "        # Add text to the document\n",
    "        elements.append(Paragraph(content, paragraph_style))\n",
    "\n",
    "    elements.append(Spacer(1, 12))\n",
    "\n",
    "\n",
    "\n",
    "# Add the conclusion header and text\n",
    "subtitle = \"Conclusion\"\n",
    "elements.append(Paragraph(subtitle, header_style))\n",
    "\n",
    "# Remove \"Conclusion: \" prefix if it exists\n",
    "conclusion = conclusion.replace(\"Conclusion:\", \"\", 1)\n",
    "\n",
    "elements.append(Paragraph(conclusion, paragraph_style))\n",
    "elements.append(Spacer(1, 12))\n",
    "\n",
    "# Page break (optional)\n",
    "elements.append(PageBreak())\n",
    "\n",
    "# Build the PDF document with the elements\n",
    "doc.build(elements)\n"
   ]
  }
 ],
 "metadata": {
  "kernelspec": {
   "display_name": "Python 3",
   "language": "python",
   "name": "python3"
  },
  "language_info": {
   "codemirror_mode": {
    "name": "ipython",
    "version": 3
   },
   "file_extension": ".py",
   "mimetype": "text/x-python",
   "name": "python",
   "nbconvert_exporter": "python",
   "pygments_lexer": "ipython3",
   "version": "3.10.11"
  },
  "orig_nbformat": 4
 },
 "nbformat": 4,
 "nbformat_minor": 2
}
